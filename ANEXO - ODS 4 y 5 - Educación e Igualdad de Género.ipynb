{
 "cells": [
  {
   "cell_type": "markdown",
   "id": "1fe62eb8",
   "metadata": {},
   "source": [
    "# ODS \n",
    "\n",
    "En 2015 la Asamblea General de la ONU aprobaba la resolución Transformar nuestro mundo; Agenda 2030 para el Desarrollo sostenible. Una lista de 17 Objetivos, a su vez divididos en indicadores, que servirián como guía para las estrategias que aplicarían cada uno de los países firmantes. Estos objetivos tienen como fin erradicar la pobreza, proteger el planeta y asegurar la prosperidad para todas las personas. \n",
    " \n",
    "Los ODS se miden a través de indicadores específicos que se basan en datos estadísticos y se actualizan regularmente para evaluar el progreso y la eficacia de las políticas y programas implementados. Encontramos multitud de web dónde están disponibles las encuestras, las visualizaciones y el crudo de los datos.\n",
    "\n",
    "La medición de los ODS es responsabilidad de los países y depende en gran medida de la disponibilidad y calidad de los datos. Por lo tanto, muchos países están trabajando para mejorar sus sistemas de datos y estadísticas para poder medir mejor el progreso hacia los ODS.\n",
    "\n",
    "Además, las Naciones Unidas, coordina el seguimiento y la revisión global de los ODS, mediante el informe anual \"Objetivos de Desarrollo Sostenible: Informe de seguimiento\", que incluye una evaluación del progreso y los desafíos en la implementación de los ODS a nivel mundial.\n",
    "\n",
    "Algunas de los recursos que dónde encontramos información sobre estos indicadores son:\n",
    "\n",
    "### La Agenda 2030 para el Desarrollo Sostenible y Open Data BCN\n",
    "\n",
    "Dentro del apartado de Open Data del Ayuntamiento de Barcelona, hay un apartado especifico dónde agrupan las bases de datos que puden adcribirse a la Agenda 2030. Dentro de los obejtivos sobre los que hemos ido investigando hemos observado cómo datos pertenecientes a la Brecha Digital están englobados en el ODS5. \n",
    "\n",
    "\n",
    "Más info: https://opendata-ajuntament.barcelona.cat/es/ods-agenda2030\n",
    "\n",
    "### OCDE Gender Data Portal\n",
    "\n",
    "El Portal de datos de género de la OCDE es un recurso importante para los encargados de formular políticas, los investigadores y cualquier persona interesada en la igualdad de género y el empoderamiento de las mujeres. Los datos disponibles en el portal se pueden utilizar para informar decisiones políticas, monitorear el progreso hacia los objetivos de igualdad de género y crear conciencia sobre los desafíos que quedan para lograr la igualdad de género en todo el mundo.\n",
    "\n",
    "Más info: https://stats.oecd.org/Index.aspx#\n",
    "\n",
    "\n",
    "### SDG-4\n",
    "\n",
    "El obejtivo número 4 devido a su complejidad y amplitud, cuenta con una web \"propia\" en la que podemos analizar multitud de indicadores, permitiendonos visualizar un dashboard con los gráficos que seleccionemos. \n",
    "\n",
    "Más info: http://sdg4-data.uis.unesco.org/\n",
    "\n",
    "\n",
    "\n",
    "# ODS 4\n",
    "\n",
    "La educación permite la movilidad socioeconómica ascendente y es clave para salir de la pobreza, se convierte de este modo el ODS 4 en un eje vertebrador de la Agenda 2030, contando con diez indicadores (metas), de los cuales hemos seleccionado para investigar el 4.4 que aúna la educación con las competencias necesarias para acceder a un empleo digno. \n",
    "\n",
    "Objetivo 4: Garantizar una educación de calidad inclusiva y equitativa y promover oportunidades de aprendizaje permanente para todos.\n",
    "\n",
    "Indicador 4.4: De aquí a 2030, aumentar sustancialmente el número de jóvenes y adultos que cuentan con las competencias pertinentes, para el empleo, el trabajo decente y el espíritu empresarial.\n",
    "\n",
    "Más info: https://www.un.org/sustainabledevelopment/es/education/ \n",
    "\n",
    "\n",
    "# ODS 5\n",
    "\n",
    "Previo a los ODS encontramos los ODM qué debido a la críticas recibidas fueron mejorados de cara a su nueva versión, siendo un punto clave la mejora de la perspectiva de género, con el obejtivo de alcanzar la igualdad de sexos y empoderar a todas las mujeres y niñas. \n",
    "\n",
    "Objetivo 5: Lograr la igualdad de género y empoderar a todas las mujeres y niñas. \n",
    "\n",
    "Indicador 5.b: Mejorar el uso de la tecnología habilitadora, en particular la tecnología de la información y las comunicaciones, para promover el empoderamiento de la mujer.\n",
    "\n",
    "Más info: https://www.un.org/sustainabledevelopment/es/gender-equality/"
   ]
  },
  {
   "cell_type": "code",
   "execution_count": null,
   "id": "f755f404",
   "metadata": {},
   "outputs": [],
   "source": []
  }
 ],
 "metadata": {
  "kernelspec": {
   "display_name": "Python 3 (ipykernel)",
   "language": "python",
   "name": "python3"
  },
  "language_info": {
   "codemirror_mode": {
    "name": "ipython",
    "version": 3
   },
   "file_extension": ".py",
   "mimetype": "text/x-python",
   "name": "python",
   "nbconvert_exporter": "python",
   "pygments_lexer": "ipython3",
   "version": "3.9.12"
  }
 },
 "nbformat": 4,
 "nbformat_minor": 5
}
