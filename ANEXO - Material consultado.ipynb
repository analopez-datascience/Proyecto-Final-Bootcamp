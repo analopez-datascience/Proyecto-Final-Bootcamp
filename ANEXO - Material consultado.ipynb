{
 "cells": [
  {
   "cell_type": "markdown",
   "id": "c1c0f83e",
   "metadata": {},
   "source": [
    "# Literatura Gris\n",
    "\n",
    "ORELLANA, PAULA FREZ. INDUSTRIA 4.0 Y LAS COMPETENCIAS PARA LA RECONVERSIÓN LABORAL EN MUJERES. 2021. Tesis Doctoral. Universidad del Desarrollo.\n",
    "\n",
    "Disponible en: https://repositorio.udd.cl/server/api/core/bitstreams/93005d94-ef0b-4a33-b1a9-2de91198d4c8/content\n",
    "Consultado: 22 de marzo de 2023\n",
    "\n",
    "\n",
    "GONZÁLEZ, Purificación Heras. ¿ Tienen perspectiva de género los ODS?. Necesidad de la igualdad de Género para transformar nuestro mundo: Papel de los Objetivos de Desarrollo Sostenible, 2019, p. 11.\n",
    "\n",
    "Disponible en: https://internacional.umh.es/files/2019/05/NECESIDAD-DE-LA-IGUALDAD-DE-GENERO-e.pdf#page=10\n",
    "Consultado: 22 de marzo de 2023"
   ]
  },
  {
   "cell_type": "markdown",
   "id": "6f28bce8",
   "metadata": {},
   "source": [
    "# Información online sobre Reskilling Tecnológico Femenino\n",
    "\n",
    "https://www.cursosfemxa.es/blog/acceso-mujer-trabajo-tecnologico\n",
    "\n",
    "https://www.cursosfemxa.es/blog/papel-mujer-empleo-digital\n",
    "\n",
    "https://www.elnacional.cat/oneconomia/es/management/pueden-mujeres-salvar-transicion-tecnologica-reducir-brecha-salarial-crecer-pib-europeo_984150_102.html\n",
    "\n",
    "https://isdicrm.com/es/como-mejorar-la-presencia-de-las-mujeres-en-la-revolucion-digital-de-las-empresas/\n"
   ]
  },
  {
   "cell_type": "markdown",
   "id": "7c08d6c6",
   "metadata": {},
   "source": [
    "# Información sobre los ODS\n",
    "\n",
    "ODS 4\n",
    "\n",
    "https://www.un.org/sustainabledevelopment/es/education/ \n",
    "\n",
    "ODS 5 \n",
    "\n",
    "https://www.un.org/sustainabledevelopment/es/gender-equality/\n",
    "\n",
    "Base de datos utilizada: https://www.oecd.org/gender/"
   ]
  },
  {
   "cell_type": "markdown",
   "id": "32d5d2cc",
   "metadata": {},
   "source": [
    "# Otros\n",
    "\n",
    "Datos sobre el paro: https://datosmacro.expansion.com/paro/espana?sc=F"
   ]
  },
  {
   "cell_type": "markdown",
   "id": "53c00f0c",
   "metadata": {},
   "source": [
    "# Material al que se le aplica PLN\n",
    "\n",
    "* WEB 1: https://www.bcg.com/publications/2020/how-reskilling-can-transform-future-work-women\n",
    "\n",
    "* WEB 2: https://www.barcelona-metropolitan.com/features/women-are-writing-themselves-back-into-tech-history/\n",
    "\n",
    "* WEB 3: https://www.mckinsey.com/capabilities/mckinsey-digital/our-insights/women-in-tech-the-best-bet-to-solve-europes-talent-shortage"
   ]
  }
 ],
 "metadata": {
  "kernelspec": {
   "display_name": "Python 3 (ipykernel)",
   "language": "python",
   "name": "python3"
  },
  "language_info": {
   "codemirror_mode": {
    "name": "ipython",
    "version": 3
   },
   "file_extension": ".py",
   "mimetype": "text/x-python",
   "name": "python",
   "nbconvert_exporter": "python",
   "pygments_lexer": "ipython3",
   "version": "3.9.12"
  }
 },
 "nbformat": 4,
 "nbformat_minor": 5
}
